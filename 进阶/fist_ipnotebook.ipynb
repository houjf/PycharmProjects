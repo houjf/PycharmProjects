{
 "cells": [
  {
   "cell_type": "code",
   "execution_count": null,
   "metadata": {},
   "outputs": [],
   "source": [
    "%matplotlib inline\n",
    "import numpy as np\n",
    "import matplotlib.pyplot as plt\n",
    "t = np.arange(-1, 2, .01)\n",
    "s = np.sin(2 * np.pi * t)\n",
    "\n",
    "plt.plot(t,s)\n",
    "# draw a thick red hline at y=0 that spans the xrange\n",
    "l = plt.axhline(linewidth=4, color='r')\n",
    "plt.axis([-1, 2, -1, 2])\n",
    "plt.show()\n",
    "plt.close()\n",
    "\n",
    "# draw a default hline at y=1 that spans the xrange\n",
    "plt.plot(t,s)\n",
    "l = plt.axhline(y=1, color='b')\n",
    "plt.axis([-1, 2, -1, 2])\n",
    "plt.show()\n",
    "plt.close()\n",
    "\n",
    "# draw a thick blue vline at x=0 that spans the upper quadrant of the yrange\n",
    "plt.plot(t,s)\n",
    "l = plt.axvline(x=0, ymin=0, linewidth=4, color='b')\n",
    "plt.axis([-1, 2, -1, 2])\n",
    "plt.show()\n",
    "plt.close()\n",
    "\n",
    "# draw a default hline at y=.5 that spans the the middle half of the axes\n",
    "plt.plot(t,s)\n",
    "l = plt.axhline(y=.5, xmin=0.25, xmax=0.75)\n",
    "plt.axis([-1, 2, -1, 2])\n",
    "plt.show()\n",
    "plt.close()\n",
    "\n",
    "plt.plot(t,s)\n",
    "p = plt.axhspan(0.25, 0.75, facecolor='0.5', alpha=0.5)\n",
    "p = plt.axvspan(1.25, 1.55, facecolor='g', alpha=0.5)\n",
    "plt.axis([-1, 2, -1, 2])\n",
    "plt.show()"
   ]
  },
  {
   "cell_type": "code",
   "execution_count": null,
   "metadata": {},
   "outputs": [],
   "source": [
    ""
   ]
  }
 ],
 "metadata": {},
 "nbformat": 4,
 "nbformat_minor": 0
}