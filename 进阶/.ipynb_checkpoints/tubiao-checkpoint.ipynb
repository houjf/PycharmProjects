{
 "cells": [
  {
   "cell_type": "code",
   "execution_count": 2,
   "metadata": {},
   "outputs": [
    {
     "data": {
      "text/plain": [
       "<matplotlib.collections.PathCollection at 0x1cdf6241eb8>"
      ]
     },
     "execution_count": 2,
     "metadata": {},
     "output_type": "execute_result"
    },
    {
     "data": {
      "image/png": "[encoded data removed]",
      "text/plain": [
       "<matplotlib.figure.Figure at 0x1cdebf302e8>"
      ]
     },
     "metadata": {},
     "output_type": "display_data"
    }
   ],
   "source": [
    "%matplotlib inline\n",
    "import matplotlib.pyplot as pl\n",
    "# pl.plot([1,3,5,7,2,4,9,1])\n",
    "# pl.plot([1,2,3,4,5])\n",
    "# pl.plot([1,2,4],[4,6,8])\n",
    "x = [1,2,3,4]\n",
    "y = [5,4,3,2]\n",
    "pl.figure()\n",
    "pl.subplot(231)\n",
    "pl.plot(x,y)\n",
    "\n",
    "pl.subplot(232)\n",
    "pl.bar(x,y)\n",
    "\n",
    "pl.subplot(233)\n",
    "pl.barh(x,y)\n",
    "\n",
    "pl.subplot(234)\n",
    "pl.bar(x,y)\n",
    "\n",
    "y1 = [7,8,5,3]\n",
    "pl.bar(x,y1,bottom=y, color='y')\n",
    "\n",
    "pl.subplot(235)\n",
    "pl.boxplot(x)\n",
    "\n",
    "pl.subplot(236)\n",
    "pl.scatter(x,y)"
   ]
  },
  {
   "cell_type": "code",
   "execution_count": null,
   "metadata": {},
   "outputs": [],
   "source": []
  }
 ],
 "metadata": {
  "kernelspec": {
   "display_name": "Python 3",
   "language": "python",
   "name": "python3"
  },
  "language_info": {
   "codemirror_mode": {
    "name": "ipython",
    "version": 3
   },
   "file_extension": ".py",
   "mimetype": "text/x-python",
   "name": "python",
   "nbconvert_exporter": "python",
   "pygments_lexer": "ipython3",
   "version": "3.6.1"
  }
 },
 "nbformat": 4,
 "nbformat_minor": 1
}
